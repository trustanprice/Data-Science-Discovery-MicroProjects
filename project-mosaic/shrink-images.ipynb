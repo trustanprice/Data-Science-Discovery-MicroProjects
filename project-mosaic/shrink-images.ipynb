{
 "cells": [
  {
   "attachments": {},
   "cell_type": "markdown",
   "metadata": {},
   "source": [
    "# Shrink Images for Project Mosaic\n",
    "\n",
    "If you use have many large images, this notebook contains the code to shrink your images to allow the mosaic to run quicker!\n",
    "\n",
    "- Run both of the below cells to shrink all your images.\n",
    "- Make sure your file folder is correct in the variables below:"
   ]
  },
  {
   "cell_type": "code",
   "execution_count": 4,
   "metadata": {},
   "outputs": [],
   "source": [
    "# What folder contains your tile images?\n",
    "tileImageFolder = \"tiles\"\n",
    "\n",
    "# What is the size of your final, smaller tile images?\n",
    "# - Your image will be resized to `tileImageDimension` x `tileImageDimension`\n",
    "tileImageDimension = 32\n",
    "\n",
    "# What is the new folder for your smaller tile images?\n",
    "smallTileImageFolder = f\"{tileImageFolder}-small\""
   ]
  },
  {
   "cell_type": "code",
   "execution_count": 5,
   "metadata": {},
   "outputs": [
    {
     "ename": "FileNotFoundError",
     "evalue": "[Errno 2] No such file or directory: 'tiles'",
     "output_type": "error",
     "traceback": [
      "\u001b[0;31m---------------------------------------------------------------------------\u001b[0m",
      "\u001b[0;31mFileNotFoundError\u001b[0m                         Traceback (most recent call last)",
      "Cell \u001b[0;32mIn[5], line 7\u001b[0m\n\u001b[1;32m      3\u001b[0m \u001b[38;5;28;01mimport\u001b[39;00m \u001b[38;5;21;01mos\u001b[39;00m\n\u001b[1;32m      5\u001b[0m os\u001b[38;5;241m.\u001b[39mmakedirs(smallTileImageFolder, exist_ok\u001b[38;5;241m=\u001b[39m\u001b[38;5;28;01mTrue\u001b[39;00m)\n\u001b[0;32m----> 7\u001b[0m \u001b[38;5;28;01mfor\u001b[39;00m fileName \u001b[38;5;129;01min\u001b[39;00m \u001b[43mos\u001b[49m\u001b[38;5;241;43m.\u001b[39;49m\u001b[43mlistdir\u001b[49m\u001b[43m(\u001b[49m\u001b[43mtileImageFolder\u001b[49m\u001b[43m)\u001b[49m:\n\u001b[1;32m      8\u001b[0m   fullPath \u001b[38;5;241m=\u001b[39m os\u001b[38;5;241m.\u001b[39mpath\u001b[38;5;241m.\u001b[39mjoin(tileImageFolder, fileName)\n\u001b[1;32m      9\u001b[0m   \u001b[38;5;28;01mif\u001b[39;00m os\u001b[38;5;241m.\u001b[39mpath\u001b[38;5;241m.\u001b[39misfile(fullPath) \u001b[38;5;129;01mand\u001b[39;00m DISCOVERY\u001b[38;5;241m.\u001b[39misImageFile(fullPath):\n",
      "\u001b[0;31mFileNotFoundError\u001b[0m: [Errno 2] No such file or directory: 'tiles'"
     ]
    }
   ],
   "source": [
    "import DISCOVERY\n",
    "from PIL import Image\n",
    "import os\n",
    "\n",
    "os.makedirs(smallTileImageFolder, exist_ok=True)\n",
    "\n",
    "for fileName in os.listdir(tileImageFolder):\n",
    "  fullPath = os.path.join(tileImageFolder, fileName)\n",
    "  if os.path.isfile(fullPath) and DISCOVERY.isImageFile(fullPath):\n",
    "    print(f\"Shrinking {fullPath}...\")\n",
    "    image = Image.open(fullPath)\n",
    "    width, height = image.size\n",
    "    dimension = min(width, height)\n",
    "    image = image.crop((0, 0, dimension, dimension))\n",
    "    image = image.resize((tileImageDimension, tileImageDimension), resample=Image.Resampling.LANCZOS)\n",
    "    image.save(os.path.join(smallTileImageFolder, fileName))\n",
    "\n",
    "tada = \"\\N{PARTY POPPER}\"\n",
    "print()\n",
    "print(f\"{tada} SHRINK COMPLETE!\")\n",
    "print(f\"- All image files in \\\"{tileImageFolder}\\\" are now {tileImageDimension}px x {tileImageDimension}px and saved in \\\"{smallTileImageFolder}\\\".\")\n",
    "print(f\"- Use \\\"{smallTileImageFolder}\\\" as your tile image folder to run the mosaic creation much faster!\")\n"
   ]
  },
  {
   "cell_type": "code",
   "execution_count": null,
   "metadata": {},
   "outputs": [],
   "source": []
  }
 ],
 "metadata": {
  "kernelspec": {
   "display_name": "Python 3.10.5 64-bit",
   "language": "python",
   "name": "python3"
  },
  "language_info": {
   "codemirror_mode": {
    "name": "ipython",
    "version": 3
   },
   "file_extension": ".py",
   "mimetype": "text/x-python",
   "name": "python",
   "nbconvert_exporter": "python",
   "pygments_lexer": "ipython3",
   "version": "3.9.6"
  },
  "orig_nbformat": 4,
  "vscode": {
   "interpreter": {
    "hash": "369f2c481f4da34e4445cda3fffd2e751bd1c4d706f27375911949ba6bb62e1c"
   }
  }
 },
 "nbformat": 4,
 "nbformat_minor": 2
}
